{
  "nbformat": 4,
  "nbformat_minor": 0,
  "metadata": {
    "colab": {
      "name": "DAY 1.ipynb",
      "provenance": [],
      "authorship_tag": "ABX9TyMFnzNARbe94pTgjhKKyJ2a",
      "include_colab_link": true
    },
    "kernelspec": {
      "name": "python3",
      "display_name": "Python 3"
    },
    "language_info": {
      "name": "python"
    }
  },
  "cells": [
    {
      "cell_type": "markdown",
      "metadata": {
        "id": "view-in-github",
        "colab_type": "text"
      },
      "source": [
        "<a href=\"https://colab.research.google.com/github/josephjobytj/Practical-Introduction-to-Blockchain-with-Python/blob/main/DAY_1.ipynb\" target=\"_parent\"><img src=\"https://colab.research.google.com/assets/colab-badge.svg\" alt=\"Open In Colab\"/></a>"
      ]
    },
    {
      "cell_type": "code",
      "execution_count": 1,
      "metadata": {
        "id": "3A6fSEPesVsb"
      },
      "outputs": [],
      "source": [
        "x='joseph joby'"
      ]
    },
    {
      "cell_type": "code",
      "source": [
        "hash(x)"
      ],
      "metadata": {
        "colab": {
          "base_uri": "https://localhost:8080/"
        },
        "id": "7MQUc1k_uLDY",
        "outputId": "aaa2c61a-62f4-40c6-abf3-1edd97c72ea8"
      },
      "execution_count": 2,
      "outputs": [
        {
          "output_type": "execute_result",
          "data": {
            "text/plain": [
              "684399463177585221"
            ]
          },
          "metadata": {},
          "execution_count": 2
        }
      ]
    },
    {
      "cell_type": "code",
      "source": [
        "x='JOSEPH JOBY'\n"
      ],
      "metadata": {
        "id": "Z4Bqs-HDuVoc"
      },
      "execution_count": 3,
      "outputs": []
    },
    {
      "cell_type": "code",
      "source": [
        "hash(x)"
      ],
      "metadata": {
        "colab": {
          "base_uri": "https://localhost:8080/"
        },
        "id": "h9nmAy53v4jh",
        "outputId": "8c428b8e-5981-4524-d025-c3ea7ede50fc"
      },
      "execution_count": 4,
      "outputs": [
        {
          "output_type": "execute_result",
          "data": {
            "text/plain": [
              "-4028396117123107666"
            ]
          },
          "metadata": {},
          "execution_count": 4
        }
      ]
    },
    {
      "cell_type": "code",
      "source": [
        "str_val = 'Hello Sahrdaya'\n",
        " \n",
        "print(\"The string hash value is : \" + str(hash(str_val)))"
      ],
      "metadata": {
        "colab": {
          "base_uri": "https://localhost:8080/"
        },
        "id": "ndckQt4Lv7wT",
        "outputId": "a106e859-d6a1-4f7f-db42-2a4c37046169"
      },
      "execution_count": 5,
      "outputs": [
        {
          "output_type": "stream",
          "name": "stdout",
          "text": [
            "The string hash value is : 1020390913581736264\n"
          ]
        }
      ]
    },
    {
      "cell_type": "code",
      "source": [
        "!pip install pycrypto\n",
        "!pip install pycryptodome\n"
      ],
      "metadata": {
        "colab": {
          "base_uri": "https://localhost:8080/"
        },
        "id": "BdFIqmO8wlrz",
        "outputId": "b97caccc-2414-4539-d47b-c256c75d7125"
      },
      "execution_count": 6,
      "outputs": [
        {
          "output_type": "stream",
          "name": "stdout",
          "text": [
            "Looking in indexes: https://pypi.org/simple, https://us-python.pkg.dev/colab-wheels/public/simple/\n",
            "Requirement already satisfied: pycrypto in /usr/local/lib/python3.7/dist-packages (2.6.1)\n",
            "Looking in indexes: https://pypi.org/simple, https://us-python.pkg.dev/colab-wheels/public/simple/\n",
            "Requirement already satisfied: pycryptodome in /usr/local/lib/python3.7/dist-packages (3.15.0)\n"
          ]
        }
      ]
    },
    {
      "cell_type": "code",
      "source": [
        "from hashlib import sha256\n",
        "\n",
        "hash_func = lambda x: sha256(x.encode('utf-8')).hexdigest()"
      ],
      "metadata": {
        "id": "t-KlU8qHyuO6"
      },
      "execution_count": 7,
      "outputs": []
    },
    {
      "cell_type": "code",
      "source": [
        "class Block:\n",
        "  def __init__(self, data, prev):\n",
        "    self.data = data\n",
        "    self.prev = prev\n",
        "    if prev is not None:\n",
        "      self.hashed_prev_data = hash_func(prev.data)"
      ],
      "metadata": {
        "id": "ujrJ-O630Mup"
      },
      "execution_count": 8,
      "outputs": []
    },
    {
      "cell_type": "code",
      "source": [
        "class Blockchain:\n",
        "  def __init__(self):\n",
        "    self.head = Block('genesis', None)\n",
        "  def add_block(self, data):\n",
        "        self.head = Block(data, self.head)"
      ],
      "metadata": {
        "id": "KJO6Q3nd1EXR"
      },
      "execution_count": 9,
      "outputs": []
    },
    {
      "cell_type": "code",
      "source": [
        "def verify_chain(chain):\n",
        "  curr = chain.head\n",
        "  print(curr.data)\n",
        "  while curr.prev is not None:\n",
        "    if curr.hashed_prev_data != hash_func(curr.prev.data):\n",
        "      print(f'*{curr.prev.data}')\n",
        "    else :\n",
        "      print(curr.prev.data)\n",
        "      curr = curr.prev"
      ],
      "metadata": {
        "id": "ijmbT-l5129B"
      },
      "execution_count": 10,
      "outputs": []
    },
    {
      "cell_type": "code",
      "source": [
        "chain = Blockchain()"
      ],
      "metadata": {
        "id": "sZ9VcodG23Lo"
      },
      "execution_count": 11,
      "outputs": []
    },
    {
      "cell_type": "code",
      "source": [
        "chain.add_block('joseph joby')"
      ],
      "metadata": {
        "id": "HyClzLzm251x"
      },
      "execution_count": 12,
      "outputs": []
    },
    {
      "cell_type": "code",
      "source": [
        "verify_chain(chain)"
      ],
      "metadata": {
        "colab": {
          "base_uri": "https://localhost:8080/"
        },
        "id": "wu10psZh3fD4",
        "outputId": "896681ba-6208-4804-e55f-069678805b32"
      },
      "execution_count": 13,
      "outputs": [
        {
          "output_type": "stream",
          "name": "stdout",
          "text": [
            "joseph joby\n",
            "genesis\n"
          ]
        }
      ]
    },
    {
      "cell_type": "code",
      "source": [
        "chain.add_block('supra')"
      ],
      "metadata": {
        "id": "8MOPeEn-3pDo"
      },
      "execution_count": 14,
      "outputs": []
    },
    {
      "cell_type": "code",
      "source": [
        "verify_chain(chain)"
      ],
      "metadata": {
        "colab": {
          "base_uri": "https://localhost:8080/"
        },
        "id": "JxMBqV-I33bo",
        "outputId": "da6ee283-2ae2-4b8b-c4b5-4801ae67f627"
      },
      "execution_count": 15,
      "outputs": [
        {
          "output_type": "stream",
          "name": "stdout",
          "text": [
            "supra\n",
            "joseph joby\n",
            "genesis\n"
          ]
        }
      ]
    },
    {
      "cell_type": "code",
      "source": [
        ""
      ],
      "metadata": {
        "id": "7zWROFEA38CA"
      },
      "execution_count": 15,
      "outputs": []
    }
  ]
}